{
 "cells": [
  {
   "cell_type": "code",
   "execution_count": null,
   "metadata": {},
   "outputs": [],
   "source": [
    "import pandas as pd\n",
    "from arcgis.features import GeoAccessor, GeoSeriesAccessor\n",
    "from arcgis import GIS\n",
    "import os "
   ]
  },
  {
   "cell_type": "markdown",
   "metadata": {},
   "source": [
    "https://developers.arcgis.com/python/guide/introduction-to-the-spatially-enabled-dataframe/\n",
    "\n",
    "https://developers.arcgis.com/labs/python/download-data/\n",
    "\n",
    "https://www.arcgis.com/home/search.html?q=owner%3A%22PhilipPappas%22%20property&t=content&restrict=false"
   ]
  },
  {
   "cell_type": "code",
   "execution_count": null,
   "metadata": {},
   "outputs": [],
   "source": [
    "gis = GIS()"
   ]
  },
  {
   "cell_type": "code",
   "execution_count": null,
   "metadata": {},
   "outputs": [],
   "source": [
    "if not os.path.exists('../data'):\n",
    "    os.makedirs('../data')"
   ]
  },
  {
   "cell_type": "code",
   "execution_count": null,
   "metadata": {},
   "outputs": [],
   "source": [
    "# https://www.arcgis.com/home/item.html?id=24fb39a2554b4b89b42c03a239780898\n",
    "# 17_18_Secured_Property_Tax_Information\n",
    "item = gis.content.get(\"24fb39a2554b4b89b42c03a239780898\")\n",
    "flayer = item.layers[0]\n",
    "sdf = pd.DataFrame.spatial.from_layer(flayer)\n",
    "sdf.to_csv('../data/oc_17_18_tax.csv')"
   ]
  },
  {
   "cell_type": "code",
   "execution_count": null,
   "metadata": {},
   "outputs": [],
   "source": [
    "# https://www.arcgis.com/home/item.html?id=cb4e910e6b4d446db48e771b050d4dfe\n",
    "# 18_19_Secured_Property_Tax_Information\n",
    "item = gis.content.get(\"cb4e910e6b4d446db48e771b050d4dfe\")\n",
    "flayer = item.layers[0]\n",
    "sdf = pd.DataFrame.spatial.from_layer(flayer)\n",
    "sdf.to_csv('../data/oc_18_19_tax.csv')"
   ]
  },
  {
   "cell_type": "code",
   "execution_count": null,
   "metadata": {},
   "outputs": [],
   "source": [
    "# https://www.arcgis.com/home/item.html?id=81ec6c29a8e94c67a9ba31f0a76201a2\n",
    "# 19_20_Secured_Property_Tax_Information\n",
    "item = gis.content.get(\"81ec6c29a8e94c67a9ba31f0a76201a2\")\n",
    "flayer = item.layers[0]\n",
    "sdf = pd.DataFrame.spatial.from_layer(flayer)\n",
    "sdf.to_csv('../data/oc_19_20_tax.csv')"
   ]
  },
  {
   "cell_type": "code",
   "execution_count": null,
   "metadata": {},
   "outputs": [],
   "source": [
    "# https://www.arcgis.com/home/item.html?id=706d7e3d911240eb91c593f87d0510c8\n",
    "# 20_21_Secured_Property_Tax_Information\n",
    "item = gis.content.get(\"706d7e3d911240eb91c593f87d0510c8\")\n",
    "flayer = item.layers[0]\n",
    "sdf = pd.DataFrame.spatial.from_layer(flayer)\n",
    "sdf.to_csv('../data/oc_20_21_tax.csv')"
   ]
  }
 ],
 "metadata": {
  "kernelspec": {
   "display_name": "Python 3",
   "language": "python",
   "name": "python3"
  },
  "language_info": {
   "codemirror_mode": {
    "name": "ipython",
    "version": 3
   },
   "file_extension": ".py",
   "mimetype": "text/x-python",
   "name": "python",
   "nbconvert_exporter": "python",
   "pygments_lexer": "ipython3",
   "version": "3.8.5"
  }
 },
 "nbformat": 4,
 "nbformat_minor": 4
}
